{
 "cells": [
  {
   "cell_type": "markdown",
   "metadata": {},
   "source": [
    "## Install dependencies"
   ]
  },
  {
   "cell_type": "code",
   "execution_count": null,
   "metadata": {},
   "outputs": [],
   "source": [
    "!pip install -r requirements.txt"
   ]
  },
  {
   "cell_type": "markdown",
   "metadata": {},
   "source": [
    "## Imports and setup"
   ]
  },
  {
   "cell_type": "code",
   "execution_count": 26,
   "metadata": {},
   "outputs": [],
   "source": [
    "import os\n",
    "import requests\n",
    "import pandas as pd\n",
    "import pickle as pkl\n",
    "\n",
    "import spotify.sync as spotify\n",
    "\n",
    "import spotipy\n",
    "from spotipy.oauth2 import SpotifyClientCredentials\n",
    "\n",
    "CLIENT_ID = os.environ['SPOTIPY_CLIENT_ID']\n",
    "CLIENT_SECRET = os.environ['SPOTIPY_CLIENT_SECRET']"
   ]
  },
  {
   "cell_type": "code",
   "execution_count": 4,
   "metadata": {},
   "outputs": [
    {
     "data": {
      "text/plain": [
       "('4d998967676944babefda544d3e14570', '184c43073fac4533a613cf35c30d9127')"
      ]
     },
     "execution_count": 4,
     "metadata": {},
     "output_type": "execute_result"
    }
   ],
   "source": [
    "CLIENT_ID, CLIENT_SECRET"
   ]
  },
  {
   "cell_type": "code",
   "execution_count": 5,
   "metadata": {},
   "outputs": [],
   "source": [
    "data = {\n",
    "  'grant_type': 'client_credentials',\n",
    "  'client_id': CLIENT_ID,\n",
    "  'client_secret': CLIENT_SECRET,\n",
    "}\n",
    "response = requests.post('https://accounts.spotify.com/api/token', data=data)\n",
    "credentials = response.json()"
   ]
  },
  {
   "cell_type": "markdown",
   "metadata": {},
   "source": [
    "### Spotify.py try"
   ]
  },
  {
   "cell_type": "code",
   "execution_count": null,
   "metadata": {},
   "outputs": [],
   "source": [
    "client = spotify.Client(CLIENT_ID, CLIENT_SECRET)"
   ]
  },
  {
   "cell_type": "code",
   "execution_count": null,
   "metadata": {},
   "outputs": [],
   "source": [
    "user = await spotify.User.from_token(client, credentials['access_token'])"
   ]
  },
  {
   "cell_type": "code",
   "execution_count": null,
   "metadata": {},
   "outputs": [],
   "source": [
    "user.user.currently_playing"
   ]
  },
  {
   "cell_type": "code",
   "execution_count": null,
   "metadata": {},
   "outputs": [],
   "source": [
    "user_2 = spotify.User(client=client, data={'id': 'spotify'})"
   ]
  },
  {
   "cell_type": "markdown",
   "metadata": {},
   "source": [
    "### Spotipy try"
   ]
  },
  {
   "cell_type": "code",
   "execution_count": 2,
   "metadata": {},
   "outputs": [],
   "source": [
    "auth_manager = SpotifyClientCredentials()\n",
    "sp = spotipy.Spotify(auth_manager=auth_manager)"
   ]
  },
  {
   "cell_type": "code",
   "execution_count": 3,
   "metadata": {},
   "outputs": [],
   "source": [
    "playlists = sp.user_playlists('s44tvciud5tday4wgqy4ct4gl')\n",
    "\n",
    "source_playlist = None\n",
    "target_playlist = 'Quilombos Musicales'\n",
    "\n",
    "for playlist in playlists['items']:\n",
    "  if playlist['name'] == target_playlist:\n",
    "    target_playlist = playlist\n",
    "    break\n"
   ]
  },
  {
   "cell_type": "code",
   "execution_count": 23,
   "metadata": {},
   "outputs": [],
   "source": [
    "items_tracks = []\n",
    "\n",
    "idx_total = 0\n",
    "while idx_total < 1306:\n",
    "  items = sp.playlist_items(target_playlist['uri'], offset=idx_total, limit=100)\n",
    "  items_tracks += items['items']\n",
    "  idx_total += 100\n",
    "\n",
    "pkl.dump(items_tracks, open('items_tracks.pkl', 'wb'))"
   ]
  },
  {
   "cell_type": "code",
   "execution_count": 53,
   "metadata": {},
   "outputs": [],
   "source": [
    "def get_artists(track):\n",
    "  temp = data.get('track', {})\n",
    "  if temp:\n",
    "    artists = temp.get('artists')\n",
    "    if artists and len(artists) > 0:\n",
    "      return artists\n",
    "\n",
    "  try:\n",
    "    return sp.search(track['name'])['tracks']['items'][0]['artists']\n",
    "  except Exception as e:\n",
    "    print('Get artists failed', e)\n",
    "    return None\n",
    "\n",
    "def get_artist_id(artist, cache={}):\n",
    "  if artist['name'] in cache:\n",
    "    return cache[artist['name']]['id']\n",
    "\n",
    "  artist_id = artist.get('id')\n",
    "  if artist_id:\n",
    "    return artist_id\n",
    "\n",
    "  try:\n",
    "    return sp.search(artist['name'])['tracks']['items'][0]['artists'][0]['id']\n",
    "  except Exception as e:\n",
    "    print('Get artist id failed', e)\n",
    "    return None\n"
   ]
  },
  {
   "cell_type": "code",
   "execution_count": 47,
   "metadata": {},
   "outputs": [],
   "source": [
    "cache_table = {}"
   ]
  },
  {
   "cell_type": "code",
   "execution_count": 57,
   "metadata": {},
   "outputs": [
    {
     "name": "stdout",
     "output_type": "stream",
     "text": [
      "Get artists failed 'name'\n"
     ]
    }
   ],
   "source": [
    "df = pd.DataFrame()\n",
    "cache_table = pkl.load(open('cache_table.pkl', 'rb'))\n",
    "\n",
    "for data in items_tracks:\n",
    "  artists = get_artists(data)\n",
    "  if not artists or len(artists) == 0:\n",
    "    continue\n",
    "\n",
    "  for artist in data['track']['artists']:\n",
    "    artist_id = get_artist_id(artist, cache_table)\n",
    "    if artist['name'] not in cache_table:\n",
    "      cache_table[artist['name']] = artist\n",
    "      pkl.dump(cache_table, open('cache_table.pkl', 'wb'))\n",
    "\n",
    "    if not artist_id:\n",
    "      continue\n",
    "    \n",
    "    artist_genres = sp.artist(artist_id)['genres']\n",
    "    for genre in artist_genres:\n",
    "      item = {\n",
    "        'artist_id': artist_id,\n",
    "        'artist': artist['name'],\n",
    "        'genre': genre,\n",
    "        'track_id': data['track']['id'],\n",
    "        'track': data['track']['name'],\n",
    "        'track_number': data['track']['track_number'],\n",
    "        'is_local': data['track']['is_local'],\n",
    "      }\n",
    "      df = pd.concat([df, pd.DataFrame(item, index=[0])])\n",
    "\n",
    "df.to_pickle('data_tracks.pkl')"
   ]
  },
  {
   "cell_type": "code",
   "execution_count": 58,
   "metadata": {},
   "outputs": [
    {
     "data": {
      "text/html": [
       "<div>\n",
       "<style scoped>\n",
       "    .dataframe tbody tr th:only-of-type {\n",
       "        vertical-align: middle;\n",
       "    }\n",
       "\n",
       "    .dataframe tbody tr th {\n",
       "        vertical-align: top;\n",
       "    }\n",
       "\n",
       "    .dataframe thead th {\n",
       "        text-align: right;\n",
       "    }\n",
       "</style>\n",
       "<table border=\"1\" class=\"dataframe\">\n",
       "  <thead>\n",
       "    <tr style=\"text-align: right;\">\n",
       "      <th></th>\n",
       "      <th>artist_id</th>\n",
       "      <th>artist</th>\n",
       "      <th>genre</th>\n",
       "      <th>track_id</th>\n",
       "      <th>track</th>\n",
       "      <th>track_number</th>\n",
       "      <th>is_local</th>\n",
       "    </tr>\n",
       "  </thead>\n",
       "  <tbody>\n",
       "    <tr>\n",
       "      <th>0</th>\n",
       "      <td>4cdyqaBREB68H77QKCrKP1</td>\n",
       "      <td>Dubdogz</td>\n",
       "      <td>brazilian bass</td>\n",
       "      <td>2UGP2VAHZRqxETjJuPohwQ</td>\n",
       "      <td>Round N Round</td>\n",
       "      <td>1</td>\n",
       "      <td>False</td>\n",
       "    </tr>\n",
       "    <tr>\n",
       "      <th>0</th>\n",
       "      <td>4cdyqaBREB68H77QKCrKP1</td>\n",
       "      <td>Dubdogz</td>\n",
       "      <td>brazilian edm</td>\n",
       "      <td>2UGP2VAHZRqxETjJuPohwQ</td>\n",
       "      <td>Round N Round</td>\n",
       "      <td>1</td>\n",
       "      <td>False</td>\n",
       "    </tr>\n",
       "    <tr>\n",
       "      <th>0</th>\n",
       "      <td>6mDl7lQiLxT0iQ8LYhAlWy</td>\n",
       "      <td>Zerb</td>\n",
       "      <td>brazilian edm</td>\n",
       "      <td>2UGP2VAHZRqxETjJuPohwQ</td>\n",
       "      <td>Round N Round</td>\n",
       "      <td>1</td>\n",
       "      <td>False</td>\n",
       "    </tr>\n",
       "    <tr>\n",
       "      <th>0</th>\n",
       "      <td>4mHAu7NX2UNsnGXjviBD9e</td>\n",
       "      <td>Brooks</td>\n",
       "      <td>edm</td>\n",
       "      <td>6lLHhKjeqWWNa0hTbJN98R</td>\n",
       "      <td>Take My Breath Away</td>\n",
       "      <td>1</td>\n",
       "      <td>False</td>\n",
       "    </tr>\n",
       "    <tr>\n",
       "      <th>0</th>\n",
       "      <td>4mHAu7NX2UNsnGXjviBD9e</td>\n",
       "      <td>Brooks</td>\n",
       "      <td>electro house</td>\n",
       "      <td>6lLHhKjeqWWNa0hTbJN98R</td>\n",
       "      <td>Take My Breath Away</td>\n",
       "      <td>1</td>\n",
       "      <td>False</td>\n",
       "    </tr>\n",
       "    <tr>\n",
       "      <th>...</th>\n",
       "      <td>...</td>\n",
       "      <td>...</td>\n",
       "      <td>...</td>\n",
       "      <td>...</td>\n",
       "      <td>...</td>\n",
       "      <td>...</td>\n",
       "      <td>...</td>\n",
       "    </tr>\n",
       "    <tr>\n",
       "      <th>0</th>\n",
       "      <td>3nlpTZci9O5W8RsNoNH559</td>\n",
       "      <td>Juan Luis Guerra 4.40</td>\n",
       "      <td>tropical</td>\n",
       "      <td>1V9FVEr3vxol6BHZBVOrhK</td>\n",
       "      <td>Mi PC</td>\n",
       "      <td>1</td>\n",
       "      <td>False</td>\n",
       "    </tr>\n",
       "    <tr>\n",
       "      <th>0</th>\n",
       "      <td>3nlpTZci9O5W8RsNoNH559</td>\n",
       "      <td>Juan Luis Guerra 4.40</td>\n",
       "      <td>bachata</td>\n",
       "      <td>6KsWOolnMtLToxv6XpYjmi</td>\n",
       "      <td>La Guagua</td>\n",
       "      <td>2</td>\n",
       "      <td>False</td>\n",
       "    </tr>\n",
       "    <tr>\n",
       "      <th>0</th>\n",
       "      <td>3nlpTZci9O5W8RsNoNH559</td>\n",
       "      <td>Juan Luis Guerra 4.40</td>\n",
       "      <td>latin</td>\n",
       "      <td>6KsWOolnMtLToxv6XpYjmi</td>\n",
       "      <td>La Guagua</td>\n",
       "      <td>2</td>\n",
       "      <td>False</td>\n",
       "    </tr>\n",
       "    <tr>\n",
       "      <th>0</th>\n",
       "      <td>3nlpTZci9O5W8RsNoNH559</td>\n",
       "      <td>Juan Luis Guerra 4.40</td>\n",
       "      <td>latin pop</td>\n",
       "      <td>6KsWOolnMtLToxv6XpYjmi</td>\n",
       "      <td>La Guagua</td>\n",
       "      <td>2</td>\n",
       "      <td>False</td>\n",
       "    </tr>\n",
       "    <tr>\n",
       "      <th>0</th>\n",
       "      <td>3nlpTZci9O5W8RsNoNH559</td>\n",
       "      <td>Juan Luis Guerra 4.40</td>\n",
       "      <td>tropical</td>\n",
       "      <td>6KsWOolnMtLToxv6XpYjmi</td>\n",
       "      <td>La Guagua</td>\n",
       "      <td>2</td>\n",
       "      <td>False</td>\n",
       "    </tr>\n",
       "  </tbody>\n",
       "</table>\n",
       "<p>4715 rows × 7 columns</p>\n",
       "</div>"
      ],
      "text/plain": [
       "                 artist_id                 artist           genre  \\\n",
       "0   4cdyqaBREB68H77QKCrKP1                Dubdogz  brazilian bass   \n",
       "0   4cdyqaBREB68H77QKCrKP1                Dubdogz   brazilian edm   \n",
       "0   6mDl7lQiLxT0iQ8LYhAlWy                   Zerb   brazilian edm   \n",
       "0   4mHAu7NX2UNsnGXjviBD9e                 Brooks             edm   \n",
       "0   4mHAu7NX2UNsnGXjviBD9e                 Brooks   electro house   \n",
       "..                     ...                    ...             ...   \n",
       "0   3nlpTZci9O5W8RsNoNH559  Juan Luis Guerra 4.40        tropical   \n",
       "0   3nlpTZci9O5W8RsNoNH559  Juan Luis Guerra 4.40         bachata   \n",
       "0   3nlpTZci9O5W8RsNoNH559  Juan Luis Guerra 4.40           latin   \n",
       "0   3nlpTZci9O5W8RsNoNH559  Juan Luis Guerra 4.40       latin pop   \n",
       "0   3nlpTZci9O5W8RsNoNH559  Juan Luis Guerra 4.40        tropical   \n",
       "\n",
       "                  track_id                track  track_number  is_local  \n",
       "0   2UGP2VAHZRqxETjJuPohwQ        Round N Round             1     False  \n",
       "0   2UGP2VAHZRqxETjJuPohwQ        Round N Round             1     False  \n",
       "0   2UGP2VAHZRqxETjJuPohwQ        Round N Round             1     False  \n",
       "0   6lLHhKjeqWWNa0hTbJN98R  Take My Breath Away             1     False  \n",
       "0   6lLHhKjeqWWNa0hTbJN98R  Take My Breath Away             1     False  \n",
       "..                     ...                  ...           ...       ...  \n",
       "0   1V9FVEr3vxol6BHZBVOrhK                Mi PC             1     False  \n",
       "0   6KsWOolnMtLToxv6XpYjmi            La Guagua             2     False  \n",
       "0   6KsWOolnMtLToxv6XpYjmi            La Guagua             2     False  \n",
       "0   6KsWOolnMtLToxv6XpYjmi            La Guagua             2     False  \n",
       "0   6KsWOolnMtLToxv6XpYjmi            La Guagua             2     False  \n",
       "\n",
       "[4715 rows x 7 columns]"
      ]
     },
     "execution_count": 58,
     "metadata": {},
     "output_type": "execute_result"
    }
   ],
   "source": [
    "df"
   ]
  },
  {
   "cell_type": "code",
   "execution_count": null,
   "metadata": {},
   "outputs": [],
   "source": [
    "# drop duplicates track_id\n",
    "df.groupby(['artist_id', 'artist', 'genre', 'track', 'track_id']).count().reset_index()"
   ]
  },
  {
   "cell_type": "code",
   "execution_count": 70,
   "metadata": {},
   "outputs": [],
   "source": [
    "df_pro = df.drop_duplicates(subset=['artist_id', 'artist', 'genre', 'track', 'track_id'])"
   ]
  }
 ],
 "metadata": {
  "kernelspec": {
   "display_name": "Python 3.9.0 ('tf-env')",
   "language": "python",
   "name": "python3"
  },
  "language_info": {
   "codemirror_mode": {
    "name": "ipython",
    "version": 3
   },
   "file_extension": ".py",
   "mimetype": "text/x-python",
   "name": "python",
   "nbconvert_exporter": "python",
   "pygments_lexer": "ipython3",
   "version": "3.9.0"
  },
  "orig_nbformat": 4,
  "vscode": {
   "interpreter": {
    "hash": "547272f69d9d19e53d49775efb4016f5e9402a35ec8fb4ba04bd2bb3314051b8"
   }
  }
 },
 "nbformat": 4,
 "nbformat_minor": 2
}
